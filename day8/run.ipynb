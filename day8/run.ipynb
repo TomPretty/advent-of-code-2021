{
 "cells": [
  {
   "cell_type": "code",
   "execution_count": 13,
   "metadata": {},
   "outputs": [],
   "source": [
    "from dataclasses import dataclass\n",
    "from typing import List"
   ]
  },
  {
   "cell_type": "code",
   "execution_count": 10,
   "metadata": {},
   "outputs": [],
   "source": [
    "with open(\"input.txt\") as f:\n",
    "    lines = f.read().strip().splitlines()"
   ]
  },
  {
   "cell_type": "code",
   "execution_count": 48,
   "metadata": {},
   "outputs": [],
   "source": [
    "@dataclass\n",
    "class InputLine:\n",
    "    signals: List[str]\n",
    "    codes: List[str]\n",
    "        \n",
    "    @staticmethod\n",
    "    def from_input(line: str):\n",
    "        signals_raw, codes_raw = line.split(\" | \")\n",
    "        \n",
    "        return InputLine([set(list(s)) for s in signals_raw.split()], codes_raw.split())"
   ]
  },
  {
   "cell_type": "code",
   "execution_count": 49,
   "metadata": {},
   "outputs": [],
   "source": [
    "def number_of_ones_fours_sevens_and_eights(codes):\n",
    "    return len([c for c in codes if is_one_four_seven_or_eight(c)])\n",
    "\n",
    "def is_one_four_seven_or_eight(code):\n",
    "    code_len = len(code)\n",
    "    \n",
    "    return code_len in [2, 4, 3, 7]"
   ]
  },
  {
   "cell_type": "code",
   "execution_count": 50,
   "metadata": {},
   "outputs": [],
   "source": [
    "input_lines = [InputLine.from_input(l) for l in lines]\n",
    "ans = sum(number_of_ones_fours_sevens_and_eights(l.codes) for l in input_lines)"
   ]
  },
  {
   "cell_type": "code",
   "execution_count": 103,
   "metadata": {},
   "outputs": [],
   "source": [
    "ALL_SEGS = { \"a\", \"b\", \"c\", \"d\", \"e\", \"f\", \"g\" }\n",
    "\n",
    "def decode(signals):\n",
    "    five_segs = []\n",
    "    six_segs = []\n",
    "    for sig in signals:\n",
    "        if len(sig) == 2:\n",
    "            one = sig\n",
    "        elif len(sig) == 3:\n",
    "            seven = sig\n",
    "        elif len(sig) == 4:\n",
    "            four = sig\n",
    "        elif len(sig) == 5:\n",
    "            five_segs.append(sig)\n",
    "        elif len(sig) == 6:\n",
    "            six_segs.append(sig)\n",
    "        elif len(sig) == 7:\n",
    "            eight = sig\n",
    "\n",
    "    c_or_f = one\n",
    "    a = seven - c_or_f\n",
    "    b_or_d = four - c_or_f\n",
    "    \n",
    "    six = find(six_segs, lambda s: len(s - c_or_f) == 5)\n",
    "    c = ALL_SEGS - six\n",
    "    f = c_or_f - c\n",
    "    \n",
    "    five = find(five_segs, lambda s: len(s - c) == 5)\n",
    "    e = ALL_SEGS - five - c\n",
    "    \n",
    "    nine = find(six_segs, lambda s: len(s - e) == 6)\n",
    "    zero = find(six_segs, lambda s: (not s == six) and (not s == nine))\n",
    "    d = ALL_SEGS - zero\n",
    "    \n",
    "    b = four - c - d - f\n",
    "    \n",
    "    g = ALL_SEGS - a - b - c - d - e - f\n",
    "    \n",
    "    return {\n",
    "        extract(a): \"a\",\n",
    "        extract(b): \"b\",\n",
    "        extract(c): \"c\",\n",
    "        extract(d): \"d\",\n",
    "        extract(e): \"e\",\n",
    "        extract(f): \"f\",\n",
    "        extract(g): \"g\",\n",
    "    }\n",
    "    \n",
    "    \n",
    "def find(seq, predicate):\n",
    "    return next(x for x in seq if predicate(x))\n",
    "\n",
    "def extract(s):\n",
    "    return list(s)[0]"
   ]
  },
  {
   "cell_type": "code",
   "execution_count": 110,
   "metadata": {},
   "outputs": [],
   "source": [
    "SEGS_ZERO = { \"a\", \"b\", \"c\", \"e\", \"f\", \"g\" }\n",
    "SEGS_ONE = { \"c\", \"f\"}\n",
    "SEGS_TWO = { \"a\", \"c\", \"d\", \"e\", \"g\" }\n",
    "SEGS_THREE = { \"a\", \"c\", \"d\", \"f\", \"g\" }\n",
    "SEGS_FOUR = { \"b\", \"c\", \"d\", \"f\" }\n",
    "SEGS_FIVE = { \"a\", \"b\", \"d\", \"f\", \"g\" }\n",
    "SEGS_SIX = { \"a\", \"b\", \"d\", \"e\", \"f\", \"g\" }\n",
    "SEGS_SEVEN = { \"a\", \"c\", \"f\" }\n",
    "SEGS_EIGHT = { \"a\", \"b\", \"c\", \"d\", \"e\", \"f\", \"g\" }\n",
    "SEGS_NINE = { \"a\", \"b\", \"c\", \"d\", \"f\", \"g\" }\n",
    "\n",
    "\n",
    "def translate(code, wiring):\n",
    "    code = { wiring[c] for c in code }\n",
    "    \n",
    "    if code == SEGS_ZERO:\n",
    "        return '0'\n",
    "    elif code == SEGS_ONE:\n",
    "        return '1'\n",
    "    elif code == SEGS_TWO:\n",
    "        return '2'\n",
    "    elif code == SEGS_THREE:\n",
    "        return '3'\n",
    "    elif code == SEGS_FOUR:\n",
    "        return '4'\n",
    "    elif code == SEGS_FIVE:\n",
    "        return '5'\n",
    "    elif code == SEGS_SIX:\n",
    "        return '6'\n",
    "    elif code == SEGS_SEVEN:\n",
    "        return '7'\n",
    "    elif code == SEGS_EIGHT:\n",
    "        return '8'\n",
    "    elif code == SEGS_NINE:\n",
    "        return '9'    "
   ]
  },
  {
   "cell_type": "code",
   "execution_count": 114,
   "metadata": {},
   "outputs": [],
   "source": [
    "total = 0\n",
    "\n",
    "for line in input_lines:\n",
    "    wiring = decode(line.signals)\n",
    "    \n",
    "    num = int(\"\".join(translate(c, wiring) for c in line.codes))\n",
    "    \n",
    "    total += num"
   ]
  },
  {
   "cell_type": "code",
   "execution_count": 115,
   "metadata": {},
   "outputs": [
    {
     "data": {
      "text/plain": [
       "1009098"
      ]
     },
     "execution_count": 115,
     "metadata": {},
     "output_type": "execute_result"
    }
   ],
   "source": [
    "total"
   ]
  },
  {
   "cell_type": "code",
   "execution_count": null,
   "metadata": {},
   "outputs": [],
   "source": []
  }
 ],
 "metadata": {
  "kernelspec": {
   "display_name": "Python 3",
   "language": "python",
   "name": "python3"
  },
  "language_info": {
   "codemirror_mode": {
    "name": "ipython",
    "version": 3
   },
   "file_extension": ".py",
   "mimetype": "text/x-python",
   "name": "python",
   "nbconvert_exporter": "python",
   "pygments_lexer": "ipython3",
   "version": "3.8.12"
  }
 },
 "nbformat": 4,
 "nbformat_minor": 4
}
